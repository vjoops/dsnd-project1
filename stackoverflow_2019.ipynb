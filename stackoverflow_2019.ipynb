{
 "cells": [
  {
   "cell_type": "code",
   "execution_count": 1,
   "metadata": {},
   "outputs": [],
   "source": [
    "import numpy as np\n",
    "import pandas as pd\n",
    "import matplotlib.pyplot as plt\n",
    "import seaborn as sns\n",
    "%matplotlib inline\n",
    "\n"
   ]
  },
  {
   "cell_type": "code",
   "execution_count": 2,
   "metadata": {},
   "outputs": [
    {
     "data": {
      "text/html": [
       "<div>\n",
       "<style scoped>\n",
       "    .dataframe tbody tr th:only-of-type {\n",
       "        vertical-align: middle;\n",
       "    }\n",
       "\n",
       "    .dataframe tbody tr th {\n",
       "        vertical-align: top;\n",
       "    }\n",
       "\n",
       "    .dataframe thead th {\n",
       "        text-align: right;\n",
       "    }\n",
       "</style>\n",
       "<table border=\"1\" class=\"dataframe\">\n",
       "  <thead>\n",
       "    <tr style=\"text-align: right;\">\n",
       "      <th></th>\n",
       "      <th>Respondent</th>\n",
       "      <th>MainBranch</th>\n",
       "      <th>Hobbyist</th>\n",
       "      <th>OpenSourcer</th>\n",
       "      <th>OpenSource</th>\n",
       "      <th>Employment</th>\n",
       "      <th>Country</th>\n",
       "      <th>Student</th>\n",
       "      <th>EdLevel</th>\n",
       "      <th>UndergradMajor</th>\n",
       "      <th>...</th>\n",
       "      <th>WelcomeChange</th>\n",
       "      <th>SONewContent</th>\n",
       "      <th>Age</th>\n",
       "      <th>Gender</th>\n",
       "      <th>Trans</th>\n",
       "      <th>Sexuality</th>\n",
       "      <th>Ethnicity</th>\n",
       "      <th>Dependents</th>\n",
       "      <th>SurveyLength</th>\n",
       "      <th>SurveyEase</th>\n",
       "    </tr>\n",
       "  </thead>\n",
       "  <tbody>\n",
       "    <tr>\n",
       "      <th>0</th>\n",
       "      <td>1</td>\n",
       "      <td>I am a student who is learning to code</td>\n",
       "      <td>Yes</td>\n",
       "      <td>Never</td>\n",
       "      <td>The quality of OSS and closed source software ...</td>\n",
       "      <td>Not employed, and not looking for work</td>\n",
       "      <td>United Kingdom</td>\n",
       "      <td>No</td>\n",
       "      <td>Primary/elementary school</td>\n",
       "      <td>NaN</td>\n",
       "      <td>...</td>\n",
       "      <td>Just as welcome now as I felt last year</td>\n",
       "      <td>Tech articles written by other developers;Indu...</td>\n",
       "      <td>14.0</td>\n",
       "      <td>Man</td>\n",
       "      <td>No</td>\n",
       "      <td>Straight / Heterosexual</td>\n",
       "      <td>NaN</td>\n",
       "      <td>No</td>\n",
       "      <td>Appropriate in length</td>\n",
       "      <td>Neither easy nor difficult</td>\n",
       "    </tr>\n",
       "    <tr>\n",
       "      <th>1</th>\n",
       "      <td>2</td>\n",
       "      <td>I am a student who is learning to code</td>\n",
       "      <td>No</td>\n",
       "      <td>Less than once per year</td>\n",
       "      <td>The quality of OSS and closed source software ...</td>\n",
       "      <td>Not employed, but looking for work</td>\n",
       "      <td>Bosnia and Herzegovina</td>\n",
       "      <td>Yes, full-time</td>\n",
       "      <td>Secondary school (e.g. American high school, G...</td>\n",
       "      <td>NaN</td>\n",
       "      <td>...</td>\n",
       "      <td>Just as welcome now as I felt last year</td>\n",
       "      <td>Tech articles written by other developers;Indu...</td>\n",
       "      <td>19.0</td>\n",
       "      <td>Man</td>\n",
       "      <td>No</td>\n",
       "      <td>Straight / Heterosexual</td>\n",
       "      <td>NaN</td>\n",
       "      <td>No</td>\n",
       "      <td>Appropriate in length</td>\n",
       "      <td>Neither easy nor difficult</td>\n",
       "    </tr>\n",
       "    <tr>\n",
       "      <th>2</th>\n",
       "      <td>3</td>\n",
       "      <td>I am not primarily a developer, but I write co...</td>\n",
       "      <td>Yes</td>\n",
       "      <td>Never</td>\n",
       "      <td>The quality of OSS and closed source software ...</td>\n",
       "      <td>Employed full-time</td>\n",
       "      <td>Thailand</td>\n",
       "      <td>No</td>\n",
       "      <td>Bachelor’s degree (BA, BS, B.Eng., etc.)</td>\n",
       "      <td>Web development or web design</td>\n",
       "      <td>...</td>\n",
       "      <td>Just as welcome now as I felt last year</td>\n",
       "      <td>Tech meetups or events in your area;Courses on...</td>\n",
       "      <td>28.0</td>\n",
       "      <td>Man</td>\n",
       "      <td>No</td>\n",
       "      <td>Straight / Heterosexual</td>\n",
       "      <td>NaN</td>\n",
       "      <td>Yes</td>\n",
       "      <td>Appropriate in length</td>\n",
       "      <td>Neither easy nor difficult</td>\n",
       "    </tr>\n",
       "    <tr>\n",
       "      <th>3</th>\n",
       "      <td>4</td>\n",
       "      <td>I am a developer by profession</td>\n",
       "      <td>No</td>\n",
       "      <td>Never</td>\n",
       "      <td>The quality of OSS and closed source software ...</td>\n",
       "      <td>Employed full-time</td>\n",
       "      <td>United States</td>\n",
       "      <td>No</td>\n",
       "      <td>Bachelor’s degree (BA, BS, B.Eng., etc.)</td>\n",
       "      <td>Computer science, computer engineering, or sof...</td>\n",
       "      <td>...</td>\n",
       "      <td>Just as welcome now as I felt last year</td>\n",
       "      <td>Tech articles written by other developers;Indu...</td>\n",
       "      <td>22.0</td>\n",
       "      <td>Man</td>\n",
       "      <td>No</td>\n",
       "      <td>Straight / Heterosexual</td>\n",
       "      <td>White or of European descent</td>\n",
       "      <td>No</td>\n",
       "      <td>Appropriate in length</td>\n",
       "      <td>Easy</td>\n",
       "    </tr>\n",
       "    <tr>\n",
       "      <th>4</th>\n",
       "      <td>5</td>\n",
       "      <td>I am a developer by profession</td>\n",
       "      <td>Yes</td>\n",
       "      <td>Once a month or more often</td>\n",
       "      <td>OSS is, on average, of HIGHER quality than pro...</td>\n",
       "      <td>Employed full-time</td>\n",
       "      <td>Ukraine</td>\n",
       "      <td>No</td>\n",
       "      <td>Bachelor’s degree (BA, BS, B.Eng., etc.)</td>\n",
       "      <td>Computer science, computer engineering, or sof...</td>\n",
       "      <td>...</td>\n",
       "      <td>Just as welcome now as I felt last year</td>\n",
       "      <td>Tech meetups or events in your area;Courses on...</td>\n",
       "      <td>30.0</td>\n",
       "      <td>Man</td>\n",
       "      <td>No</td>\n",
       "      <td>Straight / Heterosexual</td>\n",
       "      <td>White or of European descent;Multiracial</td>\n",
       "      <td>No</td>\n",
       "      <td>Appropriate in length</td>\n",
       "      <td>Easy</td>\n",
       "    </tr>\n",
       "  </tbody>\n",
       "</table>\n",
       "<p>5 rows × 85 columns</p>\n",
       "</div>"
      ],
      "text/plain": [
       "   Respondent                                         MainBranch Hobbyist  \\\n",
       "0           1             I am a student who is learning to code      Yes   \n",
       "1           2             I am a student who is learning to code       No   \n",
       "2           3  I am not primarily a developer, but I write co...      Yes   \n",
       "3           4                     I am a developer by profession       No   \n",
       "4           5                     I am a developer by profession      Yes   \n",
       "\n",
       "                  OpenSourcer  \\\n",
       "0                       Never   \n",
       "1     Less than once per year   \n",
       "2                       Never   \n",
       "3                       Never   \n",
       "4  Once a month or more often   \n",
       "\n",
       "                                          OpenSource  \\\n",
       "0  The quality of OSS and closed source software ...   \n",
       "1  The quality of OSS and closed source software ...   \n",
       "2  The quality of OSS and closed source software ...   \n",
       "3  The quality of OSS and closed source software ...   \n",
       "4  OSS is, on average, of HIGHER quality than pro...   \n",
       "\n",
       "                               Employment                 Country  \\\n",
       "0  Not employed, and not looking for work          United Kingdom   \n",
       "1      Not employed, but looking for work  Bosnia and Herzegovina   \n",
       "2                      Employed full-time                Thailand   \n",
       "3                      Employed full-time           United States   \n",
       "4                      Employed full-time                 Ukraine   \n",
       "\n",
       "          Student                                            EdLevel  \\\n",
       "0              No                          Primary/elementary school   \n",
       "1  Yes, full-time  Secondary school (e.g. American high school, G...   \n",
       "2              No           Bachelor’s degree (BA, BS, B.Eng., etc.)   \n",
       "3              No           Bachelor’s degree (BA, BS, B.Eng., etc.)   \n",
       "4              No           Bachelor’s degree (BA, BS, B.Eng., etc.)   \n",
       "\n",
       "                                      UndergradMajor  \\\n",
       "0                                                NaN   \n",
       "1                                                NaN   \n",
       "2                      Web development or web design   \n",
       "3  Computer science, computer engineering, or sof...   \n",
       "4  Computer science, computer engineering, or sof...   \n",
       "\n",
       "              ...                                        WelcomeChange  \\\n",
       "0             ...              Just as welcome now as I felt last year   \n",
       "1             ...              Just as welcome now as I felt last year   \n",
       "2             ...              Just as welcome now as I felt last year   \n",
       "3             ...              Just as welcome now as I felt last year   \n",
       "4             ...              Just as welcome now as I felt last year   \n",
       "\n",
       "                                        SONewContent   Age Gender Trans  \\\n",
       "0  Tech articles written by other developers;Indu...  14.0    Man    No   \n",
       "1  Tech articles written by other developers;Indu...  19.0    Man    No   \n",
       "2  Tech meetups or events in your area;Courses on...  28.0    Man    No   \n",
       "3  Tech articles written by other developers;Indu...  22.0    Man    No   \n",
       "4  Tech meetups or events in your area;Courses on...  30.0    Man    No   \n",
       "\n",
       "                 Sexuality                                 Ethnicity  \\\n",
       "0  Straight / Heterosexual                                       NaN   \n",
       "1  Straight / Heterosexual                                       NaN   \n",
       "2  Straight / Heterosexual                                       NaN   \n",
       "3  Straight / Heterosexual              White or of European descent   \n",
       "4  Straight / Heterosexual  White or of European descent;Multiracial   \n",
       "\n",
       "  Dependents           SurveyLength                  SurveyEase  \n",
       "0         No  Appropriate in length  Neither easy nor difficult  \n",
       "1         No  Appropriate in length  Neither easy nor difficult  \n",
       "2        Yes  Appropriate in length  Neither easy nor difficult  \n",
       "3         No  Appropriate in length                        Easy  \n",
       "4         No  Appropriate in length                        Easy  \n",
       "\n",
       "[5 rows x 85 columns]"
      ]
     },
     "execution_count": 2,
     "metadata": {},
     "output_type": "execute_result"
    }
   ],
   "source": [
    "df = pd.read_csv('./data/survey_results_public.csv')\n",
    "df.head()"
   ]
  },
  {
   "cell_type": "code",
   "execution_count": 3,
   "metadata": {},
   "outputs": [
    {
     "data": {
      "text/html": [
       "<div>\n",
       "<style scoped>\n",
       "    .dataframe tbody tr th:only-of-type {\n",
       "        vertical-align: middle;\n",
       "    }\n",
       "\n",
       "    .dataframe tbody tr th {\n",
       "        vertical-align: top;\n",
       "    }\n",
       "\n",
       "    .dataframe thead th {\n",
       "        text-align: right;\n",
       "    }\n",
       "</style>\n",
       "<table border=\"1\" class=\"dataframe\">\n",
       "  <thead>\n",
       "    <tr style=\"text-align: right;\">\n",
       "      <th></th>\n",
       "      <th>Column</th>\n",
       "      <th>QuestionText</th>\n",
       "    </tr>\n",
       "  </thead>\n",
       "  <tbody>\n",
       "    <tr>\n",
       "      <th>0</th>\n",
       "      <td>Respondent</td>\n",
       "      <td>Randomized respondent ID number (not in order ...</td>\n",
       "    </tr>\n",
       "    <tr>\n",
       "      <th>1</th>\n",
       "      <td>MainBranch</td>\n",
       "      <td>Which of the following options best describes ...</td>\n",
       "    </tr>\n",
       "    <tr>\n",
       "      <th>2</th>\n",
       "      <td>Hobbyist</td>\n",
       "      <td>Do you code as a hobby?</td>\n",
       "    </tr>\n",
       "    <tr>\n",
       "      <th>3</th>\n",
       "      <td>OpenSourcer</td>\n",
       "      <td>How often do you contribute to open source?</td>\n",
       "    </tr>\n",
       "    <tr>\n",
       "      <th>4</th>\n",
       "      <td>OpenSource</td>\n",
       "      <td>How do you feel about the quality of open sour...</td>\n",
       "    </tr>\n",
       "  </tbody>\n",
       "</table>\n",
       "</div>"
      ],
      "text/plain": [
       "        Column                                       QuestionText\n",
       "0   Respondent  Randomized respondent ID number (not in order ...\n",
       "1   MainBranch  Which of the following options best describes ...\n",
       "2     Hobbyist                            Do you code as a hobby?\n",
       "3  OpenSourcer        How often do you contribute to open source?\n",
       "4   OpenSource  How do you feel about the quality of open sour..."
      ]
     },
     "execution_count": 3,
     "metadata": {},
     "output_type": "execute_result"
    }
   ],
   "source": [
    "schema = pd.read_csv('./data/survey_results_schema.csv')\n",
    "schema.head()"
   ]
  },
  {
   "cell_type": "code",
   "execution_count": 4,
   "metadata": {},
   "outputs": [],
   "source": [
    "def get_description(column_name, schema=schema):\n",
    "    description = list(schema[schema['Column'] == column_name]['QuestionText'])[0]\n",
    "    return description"
   ]
  },
  {
   "cell_type": "code",
   "execution_count": 5,
   "metadata": {},
   "outputs": [
    {
     "data": {
      "text/plain": [
       "'Randomized respondent ID number (not in order of survey response time)'"
      ]
     },
     "execution_count": 5,
     "metadata": {},
     "output_type": "execute_result"
    }
   ],
   "source": [
    "get_description(df.columns[0])"
   ]
  },
  {
   "cell_type": "code",
   "execution_count": 6,
   "metadata": {},
   "outputs": [
    {
     "data": {
      "text/plain": [
       "'What is your current total compensation (salary, bonuses, and perks, before taxes and deductions), in `CurrencySymbol`? Please enter a whole number in the box below, without any punctuation. If you are paid hourly, please estimate an equivalent weekly, monthly, or yearly salary. If you prefer not to answer, please leave the box empty.'"
      ]
     },
     "execution_count": 6,
     "metadata": {},
     "output_type": "execute_result"
    }
   ],
   "source": [
    "get_description('CompTotal')"
   ]
  },
  {
   "cell_type": "code",
   "execution_count": 7,
   "metadata": {},
   "outputs": [],
   "source": [
    "comp_vals = df['CompTotal'].value_counts()"
   ]
  },
  {
   "cell_type": "code",
   "execution_count": 8,
   "metadata": {},
   "outputs": [
    {
     "data": {
      "image/png": "[encoded data removed]",
      "text/plain": [
       "<matplotlib.figure.Figure at 0x110f25668>"
      ]
     },
     "metadata": {},
     "output_type": "display_data"
    }
   ],
   "source": [
    "(comp_vals/df.shape[0]).plot(kind=\"hist\");\n",
    "plt.title(\"Total Compensation\");"
   ]
  },
  {
   "cell_type": "code",
   "execution_count": 9,
   "metadata": {},
   "outputs": [
    {
     "data": {
      "image/png": "[encoded data removed]",
      "text/plain": [
       "<matplotlib.figure.Figure at 0x110f25ba8>"
      ]
     },
     "metadata": {},
     "output_type": "display_data"
    }
   ],
   "source": [
    "status_vals = df.MainBranch.value_counts()\n",
    "\n",
    "(status_vals/df.shape[0]).plot(kind=\"bar\");\n",
    "plt.title(\"What kind of developer are you?\");"
   ]
  },
  {
   "cell_type": "code",
   "execution_count": 10,
   "metadata": {},
   "outputs": [
    {
     "data": {
      "image/png": "[encoded data removed]",
      "text/plain": [
       "<matplotlib.figure.Figure at 0x1112256d8>"
      ]
     },
     "metadata": {},
     "output_type": "display_data"
    }
   ],
   "source": [
    "ed_vals = df.EdLevel.value_counts()\n",
    "\n",
    "(ed_vals/df.shape[0]).plot(kind=\"bar\");\n",
    "plt.title(\"Formal Education\");"
   ]
  },
  {
   "cell_type": "code",
   "execution_count": 11,
   "metadata": {},
   "outputs": [
    {
     "data": {
      "image/png": "[encoded data removed]",
      "text/plain": [
       "<matplotlib.figure.Figure at 0x111044ac8>"
      ]
     },
     "metadata": {},
     "output_type": "display_data"
    }
   ],
   "source": [
    "country_vals = df.Country.value_counts()\n",
    "\n",
    "(country_vals[:10]/df.shape[0]).plot(kind=\"bar\");\n",
    "plt.title(\"Country\");"
   ]
  },
  {
   "cell_type": "markdown",
   "metadata": {},
   "source": [
    "## We see that below bar chart has comma separated environments\n"
   ]
  },
  {
   "cell_type": "code",
   "execution_count": 12,
   "metadata": {},
   "outputs": [
    {
     "data": {
      "image/png": "[encoded data removed]",
      "text/plain": [
       "<matplotlib.figure.Figure at 0x1110cf780>"
      ]
     },
     "metadata": {},
     "output_type": "display_data"
    }
   ],
   "source": [
    "dev_environ_vals = df.DevEnviron.value_counts()\n",
    "\n",
    "(dev_environ_vals[:10]/df.shape[0]).plot(kind=\"bar\");\n",
    "plt.title(\"Development Environment\");"
   ]
  },
  {
   "cell_type": "markdown",
   "metadata": {},
   "source": [
    "### Lets try to group things with each environment "
   ]
  },
  {
   "cell_type": "code",
   "execution_count": 13,
   "metadata": {},
   "outputs": [],
   "source": [
    "all_dev_environ = df.DevEnviron.dropna().tolist()"
   ]
  },
  {
   "cell_type": "code",
   "execution_count": 14,
   "metadata": {},
   "outputs": [
    {
     "data": {
      "text/plain": [
       "['Atom;Visual Studio;Visual Studio Code',\n",
       " 'Android Studio;Atom;Eclipse;NetBeans;Notepad++;Sublime Text']"
      ]
     },
     "execution_count": 14,
     "metadata": {},
     "output_type": "execute_result"
    }
   ],
   "source": [
    "all_dev_environ[-2:]"
   ]
  },
  {
   "cell_type": "code",
   "execution_count": 15,
   "metadata": {},
   "outputs": [],
   "source": [
    "dev_environs = []\n",
    "for env in all_dev_environ:\n",
    "    envs = env.split(\";\")\n",
    "    for e in envs:\n",
    "        dev_environs.append(e)\n"
   ]
  },
  {
   "cell_type": "markdown",
   "metadata": {},
   "source": [
    "### We see below bar chart with the cleaned up data\n"
   ]
  },
  {
   "cell_type": "code",
   "execution_count": 16,
   "metadata": {},
   "outputs": [
    {
     "data": {
      "image/png": "[encoded data removed]",
      "text/plain": [
       "<matplotlib.figure.Figure at 0x110f19dd8>"
      ]
     },
     "metadata": {},
     "output_type": "display_data"
    }
   ],
   "source": [
    "from collections import defaultdict\n",
    "possible_vals = list(set(dev_environs))\n",
    "\n",
    "def total_count(df, col1, col2, look_for):\n",
    "    new_df = defaultdict(int)\n",
    "    for val in look_for:\n",
    "        for idx in range(df.shape[0]):\n",
    "            if val in df[col1][idx]:\n",
    "                new_df[val] += int(df[col2][idx])\n",
    "    new_df = pd.DataFrame(pd.Series(new_df)).reset_index()\n",
    "    new_df.columns = [col1, col2]\n",
    "    new_df.sort_values('count', ascending=False, inplace=True)\n",
    "    return new_df\n",
    "\n",
    "def clean_and_plot(df, title=\"Development Environment Used\", \n",
    "                   col_name='DevEnviron', possible_vals=possible_vals, \n",
    "                   plot=True):\n",
    "    value_counts = df[col_name].value_counts().reset_index()\n",
    "    value_counts.rename(columns={'index': col_name, col_name:'count'}, inplace=True)\n",
    "    values_df = total_count(value_counts, col_name, \"count\", possible_vals)\n",
    "    \n",
    "    values_df.set_index(col_name, inplace=True)\n",
    "    if plot:\n",
    "        (values_df/values_df.sum()).plot(kind='bar', legend=None)\n",
    "        plt.title(title)\n",
    "        plt.show()\n",
    "    props_values_df = values_df/values_df.sum()\n",
    "    return props_values_df\n",
    "\n",
    "\n",
    "props_df = clean_and_plot(df)\n"
   ]
  },
  {
   "cell_type": "markdown",
   "metadata": {},
   "source": [
    "### 19.5% people uses Visual Studio, 15.8% use visual studio code.  Other environment has less than 10% usage"
   ]
  },
  {
   "cell_type": "code",
   "execution_count": 17,
   "metadata": {},
   "outputs": [
    {
     "data": {
      "text/html": [
       "<div>\n",
       "<style scoped>\n",
       "    .dataframe tbody tr th:only-of-type {\n",
       "        vertical-align: middle;\n",
       "    }\n",
       "\n",
       "    .dataframe tbody tr th {\n",
       "        vertical-align: top;\n",
       "    }\n",
       "\n",
       "    .dataframe thead th {\n",
       "        text-align: right;\n",
       "    }\n",
       "</style>\n",
       "<table border=\"1\" class=\"dataframe\">\n",
       "  <thead>\n",
       "    <tr style=\"text-align: right;\">\n",
       "      <th></th>\n",
       "      <th>count</th>\n",
       "    </tr>\n",
       "    <tr>\n",
       "      <th>DevEnviron</th>\n",
       "      <th></th>\n",
       "    </tr>\n",
       "  </thead>\n",
       "  <tbody>\n",
       "    <tr>\n",
       "      <th>Visual Studio</th>\n",
       "      <td>0.195360</td>\n",
       "    </tr>\n",
       "    <tr>\n",
       "      <th>Visual Studio Code</th>\n",
       "      <td>0.158432</td>\n",
       "    </tr>\n",
       "    <tr>\n",
       "      <th>Notepad++</th>\n",
       "      <td>0.095182</td>\n",
       "    </tr>\n",
       "    <tr>\n",
       "      <th>IntelliJ</th>\n",
       "      <td>0.079254</td>\n",
       "    </tr>\n",
       "    <tr>\n",
       "      <th>Vim</th>\n",
       "      <td>0.079243</td>\n",
       "    </tr>\n",
       "    <tr>\n",
       "      <th>Sublime Text</th>\n",
       "      <td>0.073025</td>\n",
       "    </tr>\n",
       "    <tr>\n",
       "      <th>Android Studio</th>\n",
       "      <td>0.052870</td>\n",
       "    </tr>\n",
       "    <tr>\n",
       "      <th>Eclipse</th>\n",
       "      <td>0.045019</td>\n",
       "    </tr>\n",
       "    <tr>\n",
       "      <th>PyCharm</th>\n",
       "      <td>0.041919</td>\n",
       "    </tr>\n",
       "    <tr>\n",
       "      <th>Atom</th>\n",
       "      <td>0.041604</td>\n",
       "    </tr>\n",
       "    <tr>\n",
       "      <th>IPython / Jupyter</th>\n",
       "      <td>0.029737</td>\n",
       "    </tr>\n",
       "    <tr>\n",
       "      <th>Xcode</th>\n",
       "      <td>0.029458</td>\n",
       "    </tr>\n",
       "    <tr>\n",
       "      <th>PHPStorm</th>\n",
       "      <td>0.023759</td>\n",
       "    </tr>\n",
       "    <tr>\n",
       "      <th>NetBeans</th>\n",
       "      <td>0.018310</td>\n",
       "    </tr>\n",
       "    <tr>\n",
       "      <th>Emacs</th>\n",
       "      <td>0.014023</td>\n",
       "    </tr>\n",
       "    <tr>\n",
       "      <th>RStudio</th>\n",
       "      <td>0.010512</td>\n",
       "    </tr>\n",
       "    <tr>\n",
       "      <th>RubyMine</th>\n",
       "      <td>0.004298</td>\n",
       "    </tr>\n",
       "    <tr>\n",
       "      <th>TextMate</th>\n",
       "      <td>0.002878</td>\n",
       "    </tr>\n",
       "    <tr>\n",
       "      <th>Coda</th>\n",
       "      <td>0.002067</td>\n",
       "    </tr>\n",
       "    <tr>\n",
       "      <th>Komodo</th>\n",
       "      <td>0.001316</td>\n",
       "    </tr>\n",
       "    <tr>\n",
       "      <th>Zend</th>\n",
       "      <td>0.001098</td>\n",
       "    </tr>\n",
       "    <tr>\n",
       "      <th>Light Table</th>\n",
       "      <td>0.000636</td>\n",
       "    </tr>\n",
       "  </tbody>\n",
       "</table>\n",
       "</div>"
      ],
      "text/plain": [
       "                       count\n",
       "DevEnviron                  \n",
       "Visual Studio       0.195360\n",
       "Visual Studio Code  0.158432\n",
       "Notepad++           0.095182\n",
       "IntelliJ            0.079254\n",
       "Vim                 0.079243\n",
       "Sublime Text        0.073025\n",
       "Android Studio      0.052870\n",
       "Eclipse             0.045019\n",
       "PyCharm             0.041919\n",
       "Atom                0.041604\n",
       "IPython / Jupyter   0.029737\n",
       "Xcode               0.029458\n",
       "PHPStorm            0.023759\n",
       "NetBeans            0.018310\n",
       "Emacs               0.014023\n",
       "RStudio             0.010512\n",
       "RubyMine            0.004298\n",
       "TextMate            0.002878\n",
       "Coda                0.002067\n",
       "Komodo              0.001316\n",
       "Zend                0.001098\n",
       "Light Table         0.000636"
      ]
     },
     "execution_count": 17,
     "metadata": {},
     "output_type": "execute_result"
    }
   ],
   "source": [
    "props_df"
   ]
  },
  {
   "cell_type": "markdown",
   "metadata": {},
   "source": [
    "### Lets see if people with higher education tend to use the same two highest used environment"
   ]
  },
  {
   "cell_type": "code",
   "execution_count": 18,
   "metadata": {},
   "outputs": [
    {
     "data": {
      "text/plain": [
       "Bachelor’s degree (BA, BS, B.Eng., etc.)                                              39134\n",
       "Master’s degree (MA, MS, M.Eng., MBA, etc.)                                           19569\n",
       "Some college/university study without earning a degree                                10502\n",
       "Secondary school (e.g. American high school, German Realschule or Gymnasium, etc.)     8642\n",
       "Associate degree                                                                       2938\n",
       "Other doctoral degree (Ph.D, Ed.D., etc.)                                              2432\n",
       "Primary/elementary school                                                              1422\n",
       "Professional degree (JD, MD, etc.)                                                     1198\n",
       "I never completed any formal education                                                  553\n",
       "Name: EdLevel, dtype: int64"
      ]
     },
     "execution_count": 18,
     "metadata": {},
     "output_type": "execute_result"
    }
   ],
   "source": [
    "ed_vals"
   ]
  },
  {
   "cell_type": "code",
   "execution_count": 19,
   "metadata": {},
   "outputs": [
    {
     "data": {
      "text/plain": [
       "88574    1\n",
       "88575    0\n",
       "88577    0\n",
       "88579    0\n",
       "88580    0\n",
       "88581    1\n",
       "88582    0\n",
       "88584    0\n",
       "88585    0\n",
       "88587    0\n",
       "Name: EdLevel, dtype: int64"
      ]
     },
     "execution_count": 19,
     "metadata": {},
     "output_type": "execute_result"
    }
   ],
   "source": [
    "higher_ed = [\"Master’s degree\", \"Other doctoral degree\", \"Professional degree\"]\n",
    "def higher_ed(formal_ed_str, higher_ed=higher_ed):\n",
    "    for ed in higher_ed:\n",
    "        if ed in formal_ed_str:\n",
    "            return 1\n",
    "    return 0\n",
    "    \n",
    "df[\"EdLevel\"].dropna().apply(higher_ed)[-210:-200]\n"
   ]
  },
  {
   "cell_type": "code",
   "execution_count": 20,
   "metadata": {},
   "outputs": [],
   "source": [
    "df['HigherEd'] = df[\"EdLevel\"].dropna().apply(higher_ed)\n",
    "higher_ed_perc = df[\"HigherEd\"].mean()\n"
   ]
  },
  {
   "cell_type": "code",
   "execution_count": 21,
   "metadata": {},
   "outputs": [
    {
     "data": {
      "text/plain": [
       "0.2685380252344021"
      ]
     },
     "execution_count": 21,
     "metadata": {},
     "output_type": "execute_result"
    }
   ],
   "source": [
    "higher_ed_perc"
   ]
  },
  {
   "cell_type": "code",
   "execution_count": 22,
   "metadata": {
    "scrolled": true
   },
   "outputs": [
    {
     "name": "stdout",
     "output_type": "stream",
     "text": [
      "9     1.0\n",
      "12    1.0\n",
      "13    1.0\n",
      "15    1.0\n",
      "17    1.0\n",
      "Name: HigherEd, dtype: float64\n",
      "0    0.0\n",
      "1    0.0\n",
      "2    0.0\n",
      "3    0.0\n",
      "4    0.0\n",
      "Name: HigherEd, dtype: float64\n"
     ]
    }
   ],
   "source": [
    "ed_1 = df[df['HigherEd'] == 1]\n",
    "ed_0 = df[df['HigherEd'] == 0]\n",
    "\n",
    "print(ed_1['HigherEd'][:5])\n",
    "print(ed_0['HigherEd'][:5])"
   ]
  },
  {
   "cell_type": "markdown",
   "metadata": {},
   "source": [
    "### We see below that people with higher education tend to  use the top two development environment less (almost 2.6% less).  IPython/Jupyter has the highest positive more usage amongst people with higher education (2.1% higher)"
   ]
  },
  {
   "cell_type": "code",
   "execution_count": 23,
   "metadata": {},
   "outputs": [
    {
     "data": {
      "text/html": [
       "<style  type=\"text/css\" >\n",
       "    #T_7549cff0_e799_11e9_95bb_8c85908b84a8row0_col2 {\n",
       "            width:  10em;\n",
       "             height:  80%;\n",
       "            background:  linear-gradient(90deg, transparent 0%, transparent -0.0%, #d65f5f -0.0%, #d65f5f 54.7%, transparent 54.7%);\n",
       "        }    #T_7549cff0_e799_11e9_95bb_8c85908b84a8row1_col2 {\n",
       "            width:  10em;\n",
       "             height:  80%;\n",
       "            background:  linear-gradient(90deg, transparent 0%, transparent 0.2%, #d65f5f 0.2%, #d65f5f 54.7%, transparent 54.7%);\n",
       "        }    #T_7549cff0_e799_11e9_95bb_8c85908b84a8row2_col2 {\n",
       "            width:  10em;\n",
       "             height:  80%;\n",
       "            background:  linear-gradient(90deg, transparent 0%, transparent 54.7%, #5fba7d 54.7%, #5fba7d 68.9%, transparent 68.9%);\n",
       "        }    #T_7549cff0_e799_11e9_95bb_8c85908b84a8row3_col2 {\n",
       "            width:  10em;\n",
       "             height:  80%;\n",
       "            background:  linear-gradient(90deg, transparent 0%, transparent 54.7%, #5fba7d 54.7%, #5fba7d 73.0%, transparent 73.0%);\n",
       "        }    #T_7549cff0_e799_11e9_95bb_8c85908b84a8row4_col2 {\n",
       "            width:  10em;\n",
       "             height:  80%;\n",
       "            background:  linear-gradient(90deg, transparent 0%, transparent 54.7%, #5fba7d 54.7%, #5fba7d 66.6%, transparent 66.6%);\n",
       "        }    #T_7549cff0_e799_11e9_95bb_8c85908b84a8row5_col2 {\n",
       "            width:  10em;\n",
       "             height:  80%;\n",
       "            background:  linear-gradient(90deg, transparent 0%, transparent 39.7%, #d65f5f 39.7%, #d65f5f 54.7%, transparent 54.7%);\n",
       "        }    #T_7549cff0_e799_11e9_95bb_8c85908b84a8row6_col2 {\n",
       "            width:  10em;\n",
       "             height:  80%;\n",
       "            background:  linear-gradient(90deg, transparent 0%, transparent 54.7%, #5fba7d 54.7%, #5fba7d 72.1%, transparent 72.1%);\n",
       "        }    #T_7549cff0_e799_11e9_95bb_8c85908b84a8row7_col2 {\n",
       "            width:  10em;\n",
       "             height:  80%;\n",
       "            background:  linear-gradient(90deg, transparent 0%, transparent 54.7%, #5fba7d 54.7%, #5fba7d 68.6%, transparent 68.6%);\n",
       "        }    #T_7549cff0_e799_11e9_95bb_8c85908b84a8row8_col2 {\n",
       "            width:  10em;\n",
       "             height:  80%;\n",
       "            background:  linear-gradient(90deg, transparent 0%, transparent 54.7%, #5fba7d 54.7%, #5fba7d 100.0%, transparent 100.0%);\n",
       "        }    #T_7549cff0_e799_11e9_95bb_8c85908b84a8row9_col2 {\n",
       "            width:  10em;\n",
       "             height:  80%;\n",
       "            background:  linear-gradient(90deg, transparent 0%, transparent 33.8%, #d65f5f 33.8%, #d65f5f 54.7%, transparent 54.7%);\n",
       "        }    #T_7549cff0_e799_11e9_95bb_8c85908b84a8row10_col2 {\n",
       "            width:  10em;\n",
       "             height:  80%;\n",
       "            background:  linear-gradient(90deg, transparent 0%, transparent 43.3%, #d65f5f 43.3%, #d65f5f 54.7%, transparent 54.7%);\n",
       "        }    #T_7549cff0_e799_11e9_95bb_8c85908b84a8row11_col2 {\n",
       "            width:  10em;\n",
       "             height:  80%;\n",
       "            background:  linear-gradient(90deg, transparent 0%, transparent 54.3%, #d65f5f 54.3%, #d65f5f 54.7%, transparent 54.7%);\n",
       "        }    #T_7549cff0_e799_11e9_95bb_8c85908b84a8row12_col2 {\n",
       "            width:  10em;\n",
       "             height:  80%;\n",
       "            background:  linear-gradient(90deg, transparent 0%, transparent 54.7%, #5fba7d 54.7%, #5fba7d 85.0%, transparent 85.0%);\n",
       "        }    #T_7549cff0_e799_11e9_95bb_8c85908b84a8row13_col2 {\n",
       "            width:  10em;\n",
       "             height:  80%;\n",
       "            background:  linear-gradient(90deg, transparent 0%, transparent 54.7%, #5fba7d 54.7%, #5fba7d 74.8%, transparent 74.8%);\n",
       "        }    #T_7549cff0_e799_11e9_95bb_8c85908b84a8row14_col2 {\n",
       "            width:  10em;\n",
       "             height:  80%;\n",
       "            background:  linear-gradient(90deg, transparent 0%, transparent 40.6%, #d65f5f 40.6%, #d65f5f 54.7%, transparent 54.7%);\n",
       "        }    #T_7549cff0_e799_11e9_95bb_8c85908b84a8row15_col2 {\n",
       "            width:  10em;\n",
       "             height:  80%;\n",
       "            background:  linear-gradient(90deg, transparent 0%, transparent 51.8%, #d65f5f 51.8%, #d65f5f 54.7%, transparent 54.7%);\n",
       "        }    #T_7549cff0_e799_11e9_95bb_8c85908b84a8row16_col2 {\n",
       "            width:  10em;\n",
       "             height:  80%;\n",
       "            background:  linear-gradient(90deg, transparent 0%, transparent 53.9%, #d65f5f 53.9%, #d65f5f 54.7%, transparent 54.7%);\n",
       "        }    #T_7549cff0_e799_11e9_95bb_8c85908b84a8row17_col2 {\n",
       "            width:  10em;\n",
       "             height:  80%;\n",
       "            background:  linear-gradient(90deg, transparent 0%, transparent 54.7%, #5fba7d 54.7%, #5fba7d 56.1%, transparent 56.1%);\n",
       "        }    #T_7549cff0_e799_11e9_95bb_8c85908b84a8row18_col2 {\n",
       "            width:  10em;\n",
       "             height:  80%;\n",
       "            background:  linear-gradient(90deg, transparent 0%, transparent 54.7%, #5fba7d 54.7%, #5fba7d 55.3%, transparent 55.3%);\n",
       "        }    #T_7549cff0_e799_11e9_95bb_8c85908b84a8row19_col2 {\n",
       "            width:  10em;\n",
       "             height:  80%;\n",
       "            background:  linear-gradient(90deg, transparent 0%, transparent 54.7%, #5fba7d 54.7%, #5fba7d 54.8%, transparent 54.8%);\n",
       "        }    #T_7549cff0_e799_11e9_95bb_8c85908b84a8row20_col2 {\n",
       "            width:  10em;\n",
       "             height:  80%;\n",
       "            background:  linear-gradient(90deg, transparent 0%, transparent 54.7%, #5fba7d 54.7%, #5fba7d 55.1%, transparent 55.1%);\n",
       "        }    #T_7549cff0_e799_11e9_95bb_8c85908b84a8row21_col2 {\n",
       "            width:  10em;\n",
       "             height:  80%;\n",
       "            background:  linear-gradient(90deg, transparent 0%, transparent 54.7%, #5fba7d 54.7%, #5fba7d 54.7%, transparent 54.7%);\n",
       "        }</style>  \n",
       "<table id=\"T_7549cff0_e799_11e9_95bb_8c85908b84a8\" > \n",
       "<thead>    <tr> \n",
       "        <th class=\"blank level0\" ></th> \n",
       "        <th class=\"col_heading level0 col0\" >ed_1_perc</th> \n",
       "        <th class=\"col_heading level0 col1\" >ed_0_perc</th> \n",
       "        <th class=\"col_heading level0 col2\" >Diff_HigherEd_Vals</th> \n",
       "    </tr>    <tr> \n",
       "        <th class=\"index_name level0\" >DevEnviron</th> \n",
       "        <th class=\"blank\" ></th> \n",
       "        <th class=\"blank\" ></th> \n",
       "        <th class=\"blank\" ></th> \n",
       "    </tr></thead> \n",
       "<tbody>    <tr> \n",
       "        <th id=\"T_7549cff0_e799_11e9_95bb_8c85908b84a8level0_row0\" class=\"row_heading level0 row0\" >Visual Studio</th> \n",
       "        <td id=\"T_7549cff0_e799_11e9_95bb_8c85908b84a8row0_col0\" class=\"data row0 col0\" >0.17643</td> \n",
       "        <td id=\"T_7549cff0_e799_11e9_95bb_8c85908b84a8row0_col1\" class=\"data row0 col1\" >0.202574</td> \n",
       "        <td id=\"T_7549cff0_e799_11e9_95bb_8c85908b84a8row0_col2\" class=\"data row0 col2\" >-0.0261442</td> \n",
       "    </tr>    <tr> \n",
       "        <th id=\"T_7549cff0_e799_11e9_95bb_8c85908b84a8level0_row1\" class=\"row_heading level0 row1\" >Visual Studio Code</th> \n",
       "        <td id=\"T_7549cff0_e799_11e9_95bb_8c85908b84a8row1_col0\" class=\"data row1 col0\" >0.139724</td> \n",
       "        <td id=\"T_7549cff0_e799_11e9_95bb_8c85908b84a8row1_col1\" class=\"data row1 col1\" >0.165753</td> \n",
       "        <td id=\"T_7549cff0_e799_11e9_95bb_8c85908b84a8row1_col2\" class=\"data row1 col2\" >-0.0260284</td> \n",
       "    </tr>    <tr> \n",
       "        <th id=\"T_7549cff0_e799_11e9_95bb_8c85908b84a8level0_row2\" class=\"row_heading level0 row2\" >Notepad++</th> \n",
       "        <td id=\"T_7549cff0_e799_11e9_95bb_8c85908b84a8row2_col0\" class=\"data row2 col0\" >0.0997893</td> \n",
       "        <td id=\"T_7549cff0_e799_11e9_95bb_8c85908b84a8row2_col1\" class=\"data row2 col1\" >0.0929701</td> \n",
       "        <td id=\"T_7549cff0_e799_11e9_95bb_8c85908b84a8row2_col2\" class=\"data row2 col2\" >0.00681917</td> \n",
       "    </tr>    <tr> \n",
       "        <th id=\"T_7549cff0_e799_11e9_95bb_8c85908b84a8level0_row3\" class=\"row_heading level0 row3\" >Vim</th> \n",
       "        <td id=\"T_7549cff0_e799_11e9_95bb_8c85908b84a8row3_col0\" class=\"data row3 col0\" >0.086399</td> \n",
       "        <td id=\"T_7549cff0_e799_11e9_95bb_8c85908b84a8row3_col1\" class=\"data row3 col1\" >0.0776159</td> \n",
       "        <td id=\"T_7549cff0_e799_11e9_95bb_8c85908b84a8row3_col2\" class=\"data row3 col2\" >0.00878315</td> \n",
       "    </tr>    <tr> \n",
       "        <th id=\"T_7549cff0_e799_11e9_95bb_8c85908b84a8level0_row4\" class=\"row_heading level0 row4\" >IntelliJ</th> \n",
       "        <td id=\"T_7549cff0_e799_11e9_95bb_8c85908b84a8row4_col0\" class=\"data row4 col0\" >0.0838485</td> \n",
       "        <td id=\"T_7549cff0_e799_11e9_95bb_8c85908b84a8row4_col1\" class=\"data row4 col1\" >0.0781357</td> \n",
       "        <td id=\"T_7549cff0_e799_11e9_95bb_8c85908b84a8row4_col2\" class=\"data row4 col2\" >0.00571282</td> \n",
       "    </tr>    <tr> \n",
       "        <th id=\"T_7549cff0_e799_11e9_95bb_8c85908b84a8level0_row5\" class=\"row_heading level0 row5\" >Sublime Text</th> \n",
       "        <td id=\"T_7549cff0_e799_11e9_95bb_8c85908b84a8row5_col0\" class=\"data row5 col0\" >0.0677414</td> \n",
       "        <td id=\"T_7549cff0_e799_11e9_95bb_8c85908b84a8row5_col1\" class=\"data row5 col1\" >0.0749169</td> \n",
       "        <td id=\"T_7549cff0_e799_11e9_95bb_8c85908b84a8row5_col2\" class=\"data row5 col2\" >-0.00717551</td> \n",
       "    </tr>    <tr> \n",
       "        <th id=\"T_7549cff0_e799_11e9_95bb_8c85908b84a8level0_row6\" class=\"row_heading level0 row6\" >Eclipse</th> \n",
       "        <td id=\"T_7549cff0_e799_11e9_95bb_8c85908b84a8row6_col0\" class=\"data row6 col0\" >0.0508442</td> \n",
       "        <td id=\"T_7549cff0_e799_11e9_95bb_8c85908b84a8row6_col1\" class=\"data row6 col1\" >0.0424991</td> \n",
       "        <td id=\"T_7549cff0_e799_11e9_95bb_8c85908b84a8row6_col2\" class=\"data row6 col2\" >0.00834511</td> \n",
       "    </tr>    <tr> \n",
       "        <th id=\"T_7549cff0_e799_11e9_95bb_8c85908b84a8level0_row7\" class=\"row_heading level0 row7\" >PyCharm</th> \n",
       "        <td id=\"T_7549cff0_e799_11e9_95bb_8c85908b84a8row7_col0\" class=\"data row7 col0\" >0.0469352</td> \n",
       "        <td id=\"T_7549cff0_e799_11e9_95bb_8c85908b84a8row7_col1\" class=\"data row7 col1\" >0.0402699</td> \n",
       "        <td id=\"T_7549cff0_e799_11e9_95bb_8c85908b84a8row7_col2\" class=\"data row7 col2\" >0.00666531</td> \n",
       "    </tr>    <tr> \n",
       "        <th id=\"T_7549cff0_e799_11e9_95bb_8c85908b84a8level0_row8\" class=\"row_heading level0 row8\" >IPython / Jupyter</th> \n",
       "        <td id=\"T_7549cff0_e799_11e9_95bb_8c85908b84a8row8_col0\" class=\"data row8 col0\" >0.0458956</td> \n",
       "        <td id=\"T_7549cff0_e799_11e9_95bb_8c85908b84a8row8_col1\" class=\"data row8 col1\" >0.0242109</td> \n",
       "        <td id=\"T_7549cff0_e799_11e9_95bb_8c85908b84a8row8_col2\" class=\"data row8 col2\" >0.0216847</td> \n",
       "    </tr>    <tr> \n",
       "        <th id=\"T_7549cff0_e799_11e9_95bb_8c85908b84a8level0_row9\" class=\"row_heading level0 row9\" >Android Studio</th> \n",
       "        <td id=\"T_7549cff0_e799_11e9_95bb_8c85908b84a8row9_col0\" class=\"data row9 col0\" >0.0451609</td> \n",
       "        <td id=\"T_7549cff0_e799_11e9_95bb_8c85908b84a8row9_col1\" class=\"data row9 col1\" >0.0551393</td> \n",
       "        <td id=\"T_7549cff0_e799_11e9_95bb_8c85908b84a8row9_col2\" class=\"data row9 col2\" >-0.00997839</td> \n",
       "    </tr>    <tr> \n",
       "        <th id=\"T_7549cff0_e799_11e9_95bb_8c85908b84a8level0_row10\" class=\"row_heading level0 row10\" >Atom</th> \n",
       "        <td id=\"T_7549cff0_e799_11e9_95bb_8c85908b84a8row10_col0\" class=\"data row10 col0\" >0.0373846</td> \n",
       "        <td id=\"T_7549cff0_e799_11e9_95bb_8c85908b84a8row10_col1\" class=\"data row10 col1\" >0.0428189</td> \n",
       "        <td id=\"T_7549cff0_e799_11e9_95bb_8c85908b84a8row10_col2\" class=\"data row10 col2\" >-0.00543434</td> \n",
       "    </tr>    <tr> \n",
       "        <th id=\"T_7549cff0_e799_11e9_95bb_8c85908b84a8level0_row11\" class=\"row_heading level0 row11\" >Xcode</th> \n",
       "        <td id=\"T_7549cff0_e799_11e9_95bb_8c85908b84a8row11_col0\" class=\"data row11 col0\" >0.0293726</td> \n",
       "        <td id=\"T_7549cff0_e799_11e9_95bb_8c85908b84a8row11_col1\" class=\"data row11 col1\" >0.0295589</td> \n",
       "        <td id=\"T_7549cff0_e799_11e9_95bb_8c85908b84a8row11_col2\" class=\"data row11 col2\" >-0.000186289</td> \n",
       "    </tr>    <tr> \n",
       "        <th id=\"T_7549cff0_e799_11e9_95bb_8c85908b84a8level0_row12\" class=\"row_heading level0 row12\" >RStudio</th> \n",
       "        <td id=\"T_7549cff0_e799_11e9_95bb_8c85908b84a8row12_col0\" class=\"data row12 col0\" >0.0212775</td> \n",
       "        <td id=\"T_7549cff0_e799_11e9_95bb_8c85908b84a8row12_col1\" class=\"data row12 col1\" >0.00676246</td> \n",
       "        <td id=\"T_7549cff0_e799_11e9_95bb_8c85908b84a8row12_col2\" class=\"data row12 col2\" >0.014515</td> \n",
       "    </tr>    <tr> \n",
       "        <th id=\"T_7549cff0_e799_11e9_95bb_8c85908b84a8level0_row13\" class=\"row_heading level0 row13\" >Emacs</th> \n",
       "        <td id=\"T_7549cff0_e799_11e9_95bb_8c85908b84a8row13_col0\" class=\"data row13 col0\" >0.0211111</td> \n",
       "        <td id=\"T_7549cff0_e799_11e9_95bb_8c85908b84a8row13_col1\" class=\"data row13 col1\" >0.0114907</td> \n",
       "        <td id=\"T_7549cff0_e799_11e9_95bb_8c85908b84a8row13_col2\" class=\"data row13 col2\" >0.00962045</td> \n",
       "    </tr>    <tr> \n",
       "        <th id=\"T_7549cff0_e799_11e9_95bb_8c85908b84a8level0_row14\" class=\"row_heading level0 row14\" >PHPStorm</th> \n",
       "        <td id=\"T_7549cff0_e799_11e9_95bb_8c85908b84a8row14_col0\" class=\"data row14 col0\" >0.0186854</td> \n",
       "        <td id=\"T_7549cff0_e799_11e9_95bb_8c85908b84a8row14_col1\" class=\"data row14 col1\" >0.0253955</td> \n",
       "        <td id=\"T_7549cff0_e799_11e9_95bb_8c85908b84a8row14_col2\" class=\"data row14 col2\" >-0.00671011</td> \n",
       "    </tr>    <tr> \n",
       "        <th id=\"T_7549cff0_e799_11e9_95bb_8c85908b84a8level0_row15\" class=\"row_heading level0 row15\" >NetBeans</th> \n",
       "        <td id=\"T_7549cff0_e799_11e9_95bb_8c85908b84a8row15_col0\" class=\"data row15 col0\" >0.016925</td> \n",
       "        <td id=\"T_7549cff0_e799_11e9_95bb_8c85908b84a8row15_col1\" class=\"data row15 col1\" >0.0182731</td> \n",
       "        <td id=\"T_7549cff0_e799_11e9_95bb_8c85908b84a8row15_col2\" class=\"data row15 col2\" >-0.00134819</td> \n",
       "    </tr>    <tr> \n",
       "        <th id=\"T_7549cff0_e799_11e9_95bb_8c85908b84a8level0_row16\" class=\"row_heading level0 row16\" >RubyMine</th> \n",
       "        <td id=\"T_7549cff0_e799_11e9_95bb_8c85908b84a8row16_col0\" class=\"data row16 col0\" >0.0039644</td> \n",
       "        <td id=\"T_7549cff0_e799_11e9_95bb_8c85908b84a8row16_col1\" class=\"data row16 col1\" >0.00434837</td> \n",
       "        <td id=\"T_7549cff0_e799_11e9_95bb_8c85908b84a8row16_col2\" class=\"data row16 col2\" >-0.000383966</td> \n",
       "    </tr>    <tr> \n",
       "        <th id=\"T_7549cff0_e799_11e9_95bb_8c85908b84a8level0_row17\" class=\"row_heading level0 row17\" >TextMate</th> \n",
       "        <td id=\"T_7549cff0_e799_11e9_95bb_8c85908b84a8row17_col0\" class=\"data row17 col0\" >0.00331291</td> \n",
       "        <td id=\"T_7549cff0_e799_11e9_95bb_8c85908b84a8row17_col1\" class=\"data row17 col1\" >0.00264401</td> \n",
       "        <td id=\"T_7549cff0_e799_11e9_95bb_8c85908b84a8row17_col2\" class=\"data row17 col2\" >0.000668902</td> \n",
       "    </tr>    <tr> \n",
       "        <th id=\"T_7549cff0_e799_11e9_95bb_8c85908b84a8level0_row18\" class=\"row_heading level0 row18\" >Coda</th> \n",
       "        <td id=\"T_7549cff0_e799_11e9_95bb_8c85908b84a8row18_col0\" class=\"data row18 col0\" >0.00221785</td> \n",
       "        <td id=\"T_7549cff0_e799_11e9_95bb_8c85908b84a8row18_col1\" class=\"data row18 col1\" >0.00191928</td> \n",
       "        <td id=\"T_7549cff0_e799_11e9_95bb_8c85908b84a8row18_col2\" class=\"data row18 col2\" >0.000298568</td> \n",
       "    </tr>    <tr> \n",
       "        <th id=\"T_7549cff0_e799_11e9_95bb_8c85908b84a8level0_row19\" class=\"row_heading level0 row19\" >Komodo</th> \n",
       "        <td id=\"T_7549cff0_e799_11e9_95bb_8c85908b84a8row19_col0\" class=\"data row19 col0\" >0.00124754</td> \n",
       "        <td id=\"T_7549cff0_e799_11e9_95bb_8c85908b84a8row19_col1\" class=\"data row19 col1\" >0.00119955</td> \n",
       "        <td id=\"T_7549cff0_e799_11e9_95bb_8c85908b84a8row19_col2\" class=\"data row19 col2\" >4.79894e-05</td> \n",
       "    </tr>    <tr> \n",
       "        <th id=\"T_7549cff0_e799_11e9_95bb_8c85908b84a8level0_row20\" class=\"row_heading level0 row20\" >Zend</th> \n",
       "        <td id=\"T_7549cff0_e799_11e9_95bb_8c85908b84a8row20_col0\" class=\"data row20 col0\" >0.00115051</td> \n",
       "        <td id=\"T_7549cff0_e799_11e9_95bb_8c85908b84a8row20_col1\" class=\"data row20 col1\" >0.000939648</td> \n",
       "        <td id=\"T_7549cff0_e799_11e9_95bb_8c85908b84a8row20_col2\" class=\"data row20 col2\" >0.000210861</td> \n",
       "    </tr>    <tr> \n",
       "        <th id=\"T_7549cff0_e799_11e9_95bb_8c85908b84a8level0_row21\" class=\"row_heading level0 row21\" >Light Table</th> \n",
       "        <td id=\"T_7549cff0_e799_11e9_95bb_8c85908b84a8row21_col0\" class=\"data row21 col0\" >0.000582185</td> \n",
       "        <td id=\"T_7549cff0_e799_11e9_95bb_8c85908b84a8row21_col1\" class=\"data row21 col1\" >0.000564788</td> \n",
       "        <td id=\"T_7549cff0_e799_11e9_95bb_8c85908b84a8row21_col2\" class=\"data row21 col2\" >1.73969e-05</td> \n",
       "    </tr></tbody> \n",
       "</table> "
      ],
      "text/plain": [
       "<pandas.io.formats.style.Styler at 0x1122aa668>"
      ]
     },
     "execution_count": 23,
     "metadata": {},
     "output_type": "execute_result"
    }
   ],
   "source": [
    "ed_1_perc = clean_and_plot(ed_1, 'Higher Formal Education', plot=False)\n",
    "ed_0_perc = clean_and_plot(ed_0, 'Max od Bachelors Higher Ed', plot=False)\n",
    "\n",
    "comp_df = pd.merge(ed_1_perc, ed_0_perc, left_index=True, right_index=True)\n",
    "comp_df.columns = ['ed_1_perc', 'ed_0_perc']\n",
    "comp_df['Diff_HigherEd_Vals'] = comp_df['ed_1_perc'] - comp_df['ed_0_perc']\n",
    "comp_df.style.bar(subset=['Diff_HigherEd_Vals'], align='mid', color=['#d65f5f', '#5fba7d'])\n"
   ]
  },
  {
   "cell_type": "code",
   "execution_count": 24,
   "metadata": {},
   "outputs": [],
   "source": [
    "sol = {\n",
    "    'Everyone should use Open Source development environment': False,\n",
    "    'Regardless of formal education, Visual Studio is top used development environment': True,\n",
    "    'There is less than a 1% difference between open source or closed source environment usage for all forms of education': False,\n",
    "    'Those with higher formal education use Visual Studio more than those who do not have it': False\n",
    "}"
   ]
  },
  {
   "cell_type": "code",
   "execution_count": null,
   "metadata": {},
   "outputs": [],
   "source": []
  },
  {
   "cell_type": "code",
   "execution_count": 25,
   "metadata": {},
   "outputs": [
    {
     "data": {
      "text/plain": [
       "{'Everyone should use Open Source development environment': False,\n",
       " 'Regardless of formal education, Visual Studio is top used development environment': True,\n",
       " 'There is less than a 1% difference between open source or closed source environment usage for all forms of education': False,\n",
       " 'Those with higher formal education use Visual Studio more than those who do not have it': False}"
      ]
     },
     "execution_count": 25,
     "metadata": {},
     "output_type": "execute_result"
    }
   ],
   "source": [
    "sol"
   ]
  },
  {
   "cell_type": "code",
   "execution_count": 26,
   "metadata": {
    "scrolled": true
   },
   "outputs": [
    {
     "data": {
      "text/plain": [
       "{'Android Studio',\n",
       " 'Atom',\n",
       " 'Coda',\n",
       " 'Eclipse',\n",
       " 'Emacs',\n",
       " 'IPython / Jupyter',\n",
       " 'IntelliJ',\n",
       " 'Komodo',\n",
       " 'Light Table',\n",
       " 'NetBeans',\n",
       " 'Notepad++',\n",
       " 'PHPStorm',\n",
       " 'PyCharm',\n",
       " 'RStudio',\n",
       " 'RubyMine',\n",
       " 'Sublime Text',\n",
       " 'TextMate',\n",
       " 'Vim',\n",
       " 'Visual Studio',\n",
       " 'Visual Studio Code',\n",
       " 'Xcode',\n",
       " 'Zend'}"
      ]
     },
     "execution_count": 26,
     "metadata": {},
     "output_type": "execute_result"
    }
   ],
   "source": [
    "set(comp_df.index.tolist())"
   ]
  },
  {
   "cell_type": "markdown",
   "metadata": {},
   "source": [
    "## Lets see top closed source development environment based on weather people use any open source envrionment or not"
   ]
  },
  {
   "cell_type": "code",
   "execution_count": 27,
   "metadata": {},
   "outputs": [],
   "source": [
    "open_source = {'Android Studio': False,\n",
    " 'Atom': True,\n",
    " 'Coda': False,\n",
    " 'Eclipse': True,\n",
    " 'Emacs': True,\n",
    " 'IPython / Jupyter': True,\n",
    " 'IntelliJ': False,\n",
    " 'Komodo': True,\n",
    " 'Light Table': True,\n",
    " 'NetBeans': True,\n",
    " 'Notepad++': False,\n",
    " 'PHPStorm': False,\n",
    " 'PyCharm': False,\n",
    " 'RStudio': True,\n",
    " 'RubyMine': False,\n",
    " 'Sublime Text': False,\n",
    " 'TextMate': True,\n",
    " 'Vim': True,\n",
    " 'Visual Studio': False,\n",
    " 'Visual Studio Code': True,\n",
    " 'Xcode': False,\n",
    " 'Zend': True}"
   ]
  },
  {
   "cell_type": "code",
   "execution_count": 28,
   "metadata": {},
   "outputs": [
    {
     "data": {
      "text/plain": [
       "True"
      ]
     },
     "execution_count": 28,
     "metadata": {},
     "output_type": "execute_result"
    }
   ],
   "source": [
    "open_source['Atom']"
   ]
  },
  {
   "cell_type": "code",
   "execution_count": 29,
   "metadata": {
    "scrolled": true
   },
   "outputs": [],
   "source": [
    "# def clean_and_plot(df, title=\"Development Environment Used\", \n",
    "#                    col_name='DevEnviron', possible_vals=possible_vals, \n",
    "#                    plot=True):\n",
    "    \n",
    "# ed_1_perc = clean_and_plot(ed_1, 'Higher Formal Education', plot=True)\n",
    "# ed_0_perc = clean_and_plot(ed_0, 'Max od Bachelors Higher Ed', plot=True)\n"
   ]
  },
  {
   "cell_type": "code",
   "execution_count": 30,
   "metadata": {
    "scrolled": true
   },
   "outputs": [
    {
     "name": "stdout",
     "output_type": "stream",
     "text": [
      "1    1.0\n",
      "2    1.0\n",
      "3    1.0\n",
      "4    1.0\n",
      "5    1.0\n",
      "Name: OpenSource, dtype: float64\n",
      "0     0.0\n",
      "6     0.0\n",
      "13    0.0\n",
      "30    0.0\n",
      "33    0.0\n",
      "Name: OpenSource, dtype: float64\n"
     ]
    }
   ],
   "source": [
    "open_source = {'Atom','Eclipse','Emacs','IPython / Jupyter', \n",
    "               'Komodo','Light Table','NetBeans', 'RStudio',\n",
    "               'TextMate','Vim','Visual Studio Code','Zend'}\n",
    "\n",
    "def open_source(dev_env_str, open_source=open_source):\n",
    "    for ed in open_source:\n",
    "        if ed in dev_env_str:\n",
    "            return 1\n",
    "    return 0\n",
    "\n",
    "\n",
    "df['OpenSource'] = df[\"DevEnviron\"].dropna().apply(open_source)\n",
    "open_source_perc = df[\"OpenSource\"].mean()\n",
    "\n",
    "open_source_1 = df[df['OpenSource'] == 1]\n",
    "open_source_0 = df[df['OpenSource'] == 0]\n",
    "\n",
    "print(open_source_1['OpenSource'][:5])\n",
    "print(open_source_0['OpenSource'][:5])\n",
    "\n",
    "open_source_1_perc = clean_and_plot(open_source_1, 'Open Source', plot=False)\n",
    "open_source_0_perc = clean_and_plot(open_source_0, 'Closed Source/Commercial', plot=False)\n",
    "\n",
    "\n",
    "\n",
    "\n"
   ]
  },
  {
   "cell_type": "markdown",
   "metadata": {},
   "source": [
    "### People who also use any open source environment, use Visual Studio and Noepad++, SublimeText and IntelliJ as top development environment.  Weather they use open source environment or not, usage of Visual Studio does not change significantly.\n",
    "### Usage for Notepad++, IntelliJ, and Sublime Text is significantly high for people who dont use any open source at all.  "
   ]
  },
  {
   "cell_type": "code",
   "execution_count": 31,
   "metadata": {},
   "outputs": [
    {
     "data": {
      "text/html": [
       "<style  type=\"text/css\" >\n",
       "    #T_76e7459a_e799_11e9_8133_8c85908b84a8row0_col2 {\n",
       "            width:  10em;\n",
       "             height:  80%;\n",
       "            background:  linear-gradient(90deg, transparent 0%, transparent 95.1%, #d65f5f 95.1%, #d65f5f 100.0%, transparent 100.0%);\n",
       "        }    #T_76e7459a_e799_11e9_8133_8c85908b84a8row1_col2 {\n",
       "            width:  10em;\n",
       "             height:  80%;\n",
       "            background:  linear-gradient(90deg, transparent 0%, transparent 0.0%, #d65f5f 0.0%, #d65f5f 100.0%, transparent 100.0%);\n",
       "        }    #T_76e7459a_e799_11e9_8133_8c85908b84a8row2_col2 {\n",
       "            width:  10em;\n",
       "             height:  80%;\n",
       "            background:  linear-gradient(90deg, transparent 0%, transparent 19.2%, #d65f5f 19.2%, #d65f5f 100.0%, transparent 100.0%);\n",
       "        }    #T_76e7459a_e799_11e9_8133_8c85908b84a8row3_col2 {\n",
       "            width:  10em;\n",
       "             height:  80%;\n",
       "            background:  linear-gradient(90deg, transparent 0%, transparent 4.0%, #d65f5f 4.0%, #d65f5f 100.0%, transparent 100.0%);\n",
       "        }    #T_76e7459a_e799_11e9_8133_8c85908b84a8row4_col2 {\n",
       "            width:  10em;\n",
       "             height:  80%;\n",
       "            background:  linear-gradient(90deg, transparent 0%, transparent 46.3%, #d65f5f 46.3%, #d65f5f 100.0%, transparent 100.0%);\n",
       "        }    #T_76e7459a_e799_11e9_8133_8c85908b84a8row5_col2 {\n",
       "            width:  10em;\n",
       "             height:  80%;\n",
       "            background:  linear-gradient(90deg, transparent 0%, transparent 73.0%, #d65f5f 73.0%, #d65f5f 100.0%, transparent 100.0%);\n",
       "        }    #T_76e7459a_e799_11e9_8133_8c85908b84a8row6_col2 {\n",
       "            width:  10em;\n",
       "             height:  80%;\n",
       "            background:  linear-gradient(90deg, transparent 0%, transparent 68.0%, #d65f5f 68.0%, #d65f5f 100.0%, transparent 100.0%);\n",
       "        }    #T_76e7459a_e799_11e9_8133_8c85908b84a8row7_col2 {\n",
       "            width:  10em;\n",
       "             height:  80%;\n",
       "            background:  linear-gradient(90deg, transparent 0%, transparent 58.7%, #d65f5f 58.7%, #d65f5f 100.0%, transparent 100.0%);\n",
       "        }    #T_76e7459a_e799_11e9_8133_8c85908b84a8row8_col2 {\n",
       "            width:  10em;\n",
       "             height:  80%;\n",
       "            background:  linear-gradient(90deg, transparent 0%, transparent 96.3%, #d65f5f 96.3%, #d65f5f 100.0%, transparent 100.0%);\n",
       "        }    #T_76e7459a_e799_11e9_8133_8c85908b84a8row9_col2 {\n",
       "            width:  10em;\n",
       "             height:  80%;\n",
       "            background:  linear-gradient(90deg, transparent 0%, transparent 99.1%, #d65f5f 99.1%, #d65f5f 100.0%, transparent 100.0%);\n",
       "        }</style>  \n",
       "<table id=\"T_76e7459a_e799_11e9_8133_8c85908b84a8\" > \n",
       "<thead>    <tr> \n",
       "        <th class=\"blank level0\" ></th> \n",
       "        <th class=\"col_heading level0 col0\" >open_source_1_perc</th> \n",
       "        <th class=\"col_heading level0 col1\" >open_source_0_perc</th> \n",
       "        <th class=\"col_heading level0 col2\" >Diff_OpenSource_Vals</th> \n",
       "    </tr>    <tr> \n",
       "        <th class=\"index_name level0\" >DevEnviron</th> \n",
       "        <th class=\"blank\" ></th> \n",
       "        <th class=\"blank\" ></th> \n",
       "        <th class=\"blank\" ></th> \n",
       "    </tr></thead> \n",
       "<tbody>    <tr> \n",
       "        <th id=\"T_76e7459a_e799_11e9_8133_8c85908b84a8level0_row0\" class=\"row_heading level0 row0\" >Visual Studio</th> \n",
       "        <td id=\"T_76e7459a_e799_11e9_8133_8c85908b84a8row0_col0\" class=\"data row0 col0\" >0.194829</td> \n",
       "        <td id=\"T_76e7459a_e799_11e9_8133_8c85908b84a8row0_col1\" class=\"data row0 col1\" >0.199799</td> \n",
       "        <td id=\"T_76e7459a_e799_11e9_8133_8c85908b84a8row0_col2\" class=\"data row0 col2\" >-0.00497045</td> \n",
       "    </tr>    <tr> \n",
       "        <th id=\"T_76e7459a_e799_11e9_8133_8c85908b84a8level0_row1\" class=\"row_heading level0 row1\" >Notepad++</th> \n",
       "        <td id=\"T_76e7459a_e799_11e9_8133_8c85908b84a8row1_col0\" class=\"data row1 col0\" >0.084238</td> \n",
       "        <td id=\"T_76e7459a_e799_11e9_8133_8c85908b84a8row1_col1\" class=\"data row1 col1\" >0.18668</td> \n",
       "        <td id=\"T_76e7459a_e799_11e9_8133_8c85908b84a8row1_col2\" class=\"data row1 col2\" >-0.102442</td> \n",
       "    </tr>    <tr> \n",
       "        <th id=\"T_76e7459a_e799_11e9_8133_8c85908b84a8level0_row2\" class=\"row_heading level0 row2\" >IntelliJ</th> \n",
       "        <td id=\"T_76e7459a_e799_11e9_8133_8c85908b84a8row2_col0\" class=\"data row2 col0\" >0.0704152</td> \n",
       "        <td id=\"T_76e7459a_e799_11e9_8133_8c85908b84a8row2_col1\" class=\"data row2 col1\" >0.153146</td> \n",
       "        <td id=\"T_76e7459a_e799_11e9_8133_8c85908b84a8row2_col2\" class=\"data row2 col2\" >-0.0827307</td> \n",
       "    </tr>    <tr> \n",
       "        <th id=\"T_76e7459a_e799_11e9_8133_8c85908b84a8level0_row3\" class=\"row_heading level0 row3\" >Sublime Text</th> \n",
       "        <td id=\"T_76e7459a_e799_11e9_8133_8c85908b84a8row3_col0\" class=\"data row3 col0\" >0.062517</td> \n",
       "        <td id=\"T_76e7459a_e799_11e9_8133_8c85908b84a8row3_col1\" class=\"data row3 col1\" >0.160877</td> \n",
       "        <td id=\"T_76e7459a_e799_11e9_8133_8c85908b84a8row3_col2\" class=\"data row3 col2\" >-0.0983598</td> \n",
       "    </tr>    <tr> \n",
       "        <th id=\"T_76e7459a_e799_11e9_8133_8c85908b84a8level0_row4\" class=\"row_heading level0 row4\" >Android Studio</th> \n",
       "        <td id=\"T_76e7459a_e799_11e9_8133_8c85908b84a8row4_col0\" class=\"data row4 col0\" >0.0469968</td> \n",
       "        <td id=\"T_76e7459a_e799_11e9_8133_8c85908b84a8row4_col1\" class=\"data row4 col1\" >0.101975</td> \n",
       "        <td id=\"T_76e7459a_e799_11e9_8133_8c85908b84a8row4_col2\" class=\"data row4 col2\" >-0.0549777</td> \n",
       "    </tr>    <tr> \n",
       "        <th id=\"T_76e7459a_e799_11e9_8133_8c85908b84a8level0_row5\" class=\"row_heading level0 row5\" >PyCharm</th> \n",
       "        <td id=\"T_76e7459a_e799_11e9_8133_8c85908b84a8row5_col0\" class=\"data row5 col0\" >0.0389585</td> \n",
       "        <td id=\"T_76e7459a_e799_11e9_8133_8c85908b84a8row5_col1\" class=\"data row5 col1\" >0.0666667</td> \n",
       "        <td id=\"T_76e7459a_e799_11e9_8133_8c85908b84a8row5_col2\" class=\"data row5 col2\" >-0.0277081</td> \n",
       "    </tr>    <tr> \n",
       "        <th id=\"T_76e7459a_e799_11e9_8133_8c85908b84a8level0_row6\" class=\"row_heading level0 row6\" >Xcode</th> \n",
       "        <td id=\"T_76e7459a_e799_11e9_8133_8c85908b84a8row6_col0\" class=\"data row6 col0\" >0.0259523</td> \n",
       "        <td id=\"T_76e7459a_e799_11e9_8133_8c85908b84a8row6_col1\" class=\"data row6 col1\" >0.0587684</td> \n",
       "        <td id=\"T_76e7459a_e799_11e9_8133_8c85908b84a8row6_col2\" class=\"data row6 col2\" >-0.0328161</td> \n",
       "    </tr>    <tr> \n",
       "        <th id=\"T_76e7459a_e799_11e9_8133_8c85908b84a8level0_row7\" class=\"row_heading level0 row7\" >PHPStorm</th> \n",
       "        <td id=\"T_76e7459a_e799_11e9_8133_8c85908b84a8row7_col0\" class=\"data row7 col0\" >0.0192351</td> \n",
       "        <td id=\"T_76e7459a_e799_11e9_8133_8c85908b84a8row7_col1\" class=\"data row7 col1\" >0.0615797</td> \n",
       "        <td id=\"T_76e7459a_e799_11e9_8133_8c85908b84a8row7_col2\" class=\"data row7 col2\" >-0.0423446</td> \n",
       "    </tr>    <tr> \n",
       "        <th id=\"T_76e7459a_e799_11e9_8133_8c85908b84a8level0_row8\" class=\"row_heading level0 row8\" >RubyMine</th> \n",
       "        <td id=\"T_76e7459a_e799_11e9_8133_8c85908b84a8row8_col0\" class=\"data row8 col0\" >0.00389505</td> \n",
       "        <td id=\"T_76e7459a_e799_11e9_8133_8c85908b84a8row8_col1\" class=\"data row8 col1\" >0.00766399</td> \n",
       "        <td id=\"T_76e7459a_e799_11e9_8133_8c85908b84a8row8_col2\" class=\"data row8 col2\" >-0.00376894</td> \n",
       "    </tr>    <tr> \n",
       "        <th id=\"T_76e7459a_e799_11e9_8133_8c85908b84a8level0_row9\" class=\"row_heading level0 row9\" >Coda</th> \n",
       "        <td id=\"T_76e7459a_e799_11e9_8133_8c85908b84a8row9_col0\" class=\"data row9 col0\" >0.00197355</td> \n",
       "        <td id=\"T_76e7459a_e799_11e9_8133_8c85908b84a8row9_col1\" class=\"data row9 col1\" >0.00284471</td> \n",
       "        <td id=\"T_76e7459a_e799_11e9_8133_8c85908b84a8row9_col2\" class=\"data row9 col2\" >-0.000871165</td> \n",
       "    </tr></tbody> \n",
       "</table> "
      ],
      "text/plain": [
       "<pandas.io.formats.style.Styler at 0x1122eb400>"
      ]
     },
     "execution_count": 31,
     "metadata": {},
     "output_type": "execute_result"
    }
   ],
   "source": [
    "comp_df = pd.merge(open_source_1_perc, open_source_0_perc, left_index=True, right_index=True)\n",
    "comp_df.columns = ['open_source_1_perc', 'open_source_0_perc']\n",
    "comp_df['Diff_OpenSource_Vals'] = comp_df['open_source_1_perc'] - comp_df['open_source_0_perc']\n",
    "comp_df.style.bar(subset=['Diff_OpenSource_Vals'], align='mid', color=['#d65f5f', '#5fba7d'])\n"
   ]
  },
  {
   "cell_type": "code",
   "execution_count": 32,
   "metadata": {},
   "outputs": [],
   "source": [
    "sol = {\n",
    "    'Everyone should use one development environment': False,\n",
    "    \n",
    "    'Regardless of weather open source or closed source is used, Visual Studio is top used closed source development environment': True,\n",
    "    \n",
    "    'People using NotePad++ or Sublime Text are the ones using mostly losed source environment': True,\n",
    "    \n",
    "    'For most used environment, there is less than .05% difference between those who use most of open source and  those who do not use mostly open source  ': True\n",
    "}"
   ]
  },
  {
   "cell_type": "markdown",
   "metadata": {},
   "source": []
  },
  {
   "cell_type": "code",
   "execution_count": 33,
   "metadata": {},
   "outputs": [
    {
     "data": {
      "text/html": [
       "<div>\n",
       "<style scoped>\n",
       "    .dataframe tbody tr th:only-of-type {\n",
       "        vertical-align: middle;\n",
       "    }\n",
       "\n",
       "    .dataframe tbody tr th {\n",
       "        vertical-align: top;\n",
       "    }\n",
       "\n",
       "    .dataframe thead th {\n",
       "        text-align: right;\n",
       "    }\n",
       "</style>\n",
       "<table border=\"1\" class=\"dataframe\">\n",
       "  <thead>\n",
       "    <tr style=\"text-align: right;\">\n",
       "      <th></th>\n",
       "      <th>count</th>\n",
       "    </tr>\n",
       "    <tr>\n",
       "      <th>DevEnviron</th>\n",
       "      <th></th>\n",
       "    </tr>\n",
       "  </thead>\n",
       "  <tbody>\n",
       "    <tr>\n",
       "      <th>Visual Studio</th>\n",
       "      <td>0.194829</td>\n",
       "    </tr>\n",
       "    <tr>\n",
       "      <th>Visual Studio Code</th>\n",
       "      <td>0.177383</td>\n",
       "    </tr>\n",
       "    <tr>\n",
       "      <th>Vim</th>\n",
       "      <td>0.088722</td>\n",
       "    </tr>\n",
       "    <tr>\n",
       "      <th>Notepad++</th>\n",
       "      <td>0.084238</td>\n",
       "    </tr>\n",
       "    <tr>\n",
       "      <th>IntelliJ</th>\n",
       "      <td>0.070415</td>\n",
       "    </tr>\n",
       "    <tr>\n",
       "      <th>Sublime Text</th>\n",
       "      <td>0.062517</td>\n",
       "    </tr>\n",
       "    <tr>\n",
       "      <th>Eclipse</th>\n",
       "      <td>0.050404</td>\n",
       "    </tr>\n",
       "    <tr>\n",
       "      <th>Android Studio</th>\n",
       "      <td>0.046997</td>\n",
       "    </tr>\n",
       "    <tr>\n",
       "      <th>Atom</th>\n",
       "      <td>0.046581</td>\n",
       "    </tr>\n",
       "    <tr>\n",
       "      <th>PyCharm</th>\n",
       "      <td>0.038959</td>\n",
       "    </tr>\n",
       "    <tr>\n",
       "      <th>IPython / Jupyter</th>\n",
       "      <td>0.033294</td>\n",
       "    </tr>\n",
       "    <tr>\n",
       "      <th>Xcode</th>\n",
       "      <td>0.025952</td>\n",
       "    </tr>\n",
       "    <tr>\n",
       "      <th>NetBeans</th>\n",
       "      <td>0.020500</td>\n",
       "    </tr>\n",
       "    <tr>\n",
       "      <th>PHPStorm</th>\n",
       "      <td>0.019235</td>\n",
       "    </tr>\n",
       "    <tr>\n",
       "      <th>Emacs</th>\n",
       "      <td>0.015700</td>\n",
       "    </tr>\n",
       "    <tr>\n",
       "      <th>RStudio</th>\n",
       "      <td>0.011769</td>\n",
       "    </tr>\n",
       "    <tr>\n",
       "      <th>RubyMine</th>\n",
       "      <td>0.003895</td>\n",
       "    </tr>\n",
       "    <tr>\n",
       "      <th>TextMate</th>\n",
       "      <td>0.003223</td>\n",
       "    </tr>\n",
       "    <tr>\n",
       "      <th>Coda</th>\n",
       "      <td>0.001974</td>\n",
       "    </tr>\n",
       "    <tr>\n",
       "      <th>Komodo</th>\n",
       "      <td>0.001473</td>\n",
       "    </tr>\n",
       "    <tr>\n",
       "      <th>Zend</th>\n",
       "      <td>0.001229</td>\n",
       "    </tr>\n",
       "    <tr>\n",
       "      <th>Light Table</th>\n",
       "      <td>0.000713</td>\n",
       "    </tr>\n",
       "  </tbody>\n",
       "</table>\n",
       "</div>"
      ],
      "text/plain": [
       "                       count\n",
       "DevEnviron                  \n",
       "Visual Studio       0.194829\n",
       "Visual Studio Code  0.177383\n",
       "Vim                 0.088722\n",
       "Notepad++           0.084238\n",
       "IntelliJ            0.070415\n",
       "Sublime Text        0.062517\n",
       "Eclipse             0.050404\n",
       "Android Studio      0.046997\n",
       "Atom                0.046581\n",
       "PyCharm             0.038959\n",
       "IPython / Jupyter   0.033294\n",
       "Xcode               0.025952\n",
       "NetBeans            0.020500\n",
       "PHPStorm            0.019235\n",
       "Emacs               0.015700\n",
       "RStudio             0.011769\n",
       "RubyMine            0.003895\n",
       "TextMate            0.003223\n",
       "Coda                0.001974\n",
       "Komodo              0.001473\n",
       "Zend                0.001229\n",
       "Light Table         0.000713"
      ]
     },
     "execution_count": 33,
     "metadata": {},
     "output_type": "execute_result"
    }
   ],
   "source": [
    "open_source_1_perc"
   ]
  },
  {
   "cell_type": "markdown",
   "metadata": {},
   "source": []
  },
  {
   "cell_type": "code",
   "execution_count": 34,
   "metadata": {},
   "outputs": [
    {
     "data": {
      "text/html": [
       "<div>\n",
       "<style scoped>\n",
       "    .dataframe tbody tr th:only-of-type {\n",
       "        vertical-align: middle;\n",
       "    }\n",
       "\n",
       "    .dataframe tbody tr th {\n",
       "        vertical-align: top;\n",
       "    }\n",
       "\n",
       "    .dataframe thead th {\n",
       "        text-align: right;\n",
       "    }\n",
       "</style>\n",
       "<table border=\"1\" class=\"dataframe\">\n",
       "  <thead>\n",
       "    <tr style=\"text-align: right;\">\n",
       "      <th></th>\n",
       "      <th>count</th>\n",
       "    </tr>\n",
       "    <tr>\n",
       "      <th>DevEnviron</th>\n",
       "      <th></th>\n",
       "    </tr>\n",
       "  </thead>\n",
       "  <tbody>\n",
       "    <tr>\n",
       "      <th>Visual Studio</th>\n",
       "      <td>0.199799</td>\n",
       "    </tr>\n",
       "    <tr>\n",
       "      <th>Notepad++</th>\n",
       "      <td>0.186680</td>\n",
       "    </tr>\n",
       "    <tr>\n",
       "      <th>Sublime Text</th>\n",
       "      <td>0.160877</td>\n",
       "    </tr>\n",
       "    <tr>\n",
       "      <th>IntelliJ</th>\n",
       "      <td>0.153146</td>\n",
       "    </tr>\n",
       "    <tr>\n",
       "      <th>Android Studio</th>\n",
       "      <td>0.101975</td>\n",
       "    </tr>\n",
       "    <tr>\n",
       "      <th>PyCharm</th>\n",
       "      <td>0.066667</td>\n",
       "    </tr>\n",
       "    <tr>\n",
       "      <th>PHPStorm</th>\n",
       "      <td>0.061580</td>\n",
       "    </tr>\n",
       "    <tr>\n",
       "      <th>Xcode</th>\n",
       "      <td>0.058768</td>\n",
       "    </tr>\n",
       "    <tr>\n",
       "      <th>RubyMine</th>\n",
       "      <td>0.007664</td>\n",
       "    </tr>\n",
       "    <tr>\n",
       "      <th>Coda</th>\n",
       "      <td>0.002845</td>\n",
       "    </tr>\n",
       "  </tbody>\n",
       "</table>\n",
       "</div>"
      ],
      "text/plain": [
       "                   count\n",
       "DevEnviron              \n",
       "Visual Studio   0.199799\n",
       "Notepad++       0.186680\n",
       "Sublime Text    0.160877\n",
       "IntelliJ        0.153146\n",
       "Android Studio  0.101975\n",
       "PyCharm         0.066667\n",
       "PHPStorm        0.061580\n",
       "Xcode           0.058768\n",
       "RubyMine        0.007664\n",
       "Coda            0.002845"
      ]
     },
     "execution_count": 34,
     "metadata": {},
     "output_type": "execute_result"
    }
   ],
   "source": [
    "open_source_0_perc"
   ]
  },
  {
   "cell_type": "code",
   "execution_count": 35,
   "metadata": {},
   "outputs": [],
   "source": [
    "# df[\"DevEnviron\"]"
   ]
  },
  {
   "cell_type": "markdown",
   "metadata": {},
   "source": [
    "## Lets see what is top open source environment used by people based on weather they use any non open source development environment or not"
   ]
  },
  {
   "cell_type": "code",
   "execution_count": 36,
   "metadata": {},
   "outputs": [
    {
     "name": "stdout",
     "output_type": "stream",
     "text": [
      "0    1.0\n",
      "1    1.0\n",
      "2    1.0\n",
      "3    1.0\n",
      "4    1.0\n",
      "Name: closedSource, dtype: float64\n",
      "8     0.0\n",
      "20    0.0\n",
      "31    0.0\n",
      "32    0.0\n",
      "67    0.0\n",
      "Name: closedSource, dtype: float64\n"
     ]
    }
   ],
   "source": [
    "closed_source = {'Android Studio',\n",
    " 'Coda',\n",
    " 'IntelliJ',\n",
    " 'Notepad++',\n",
    " 'PHPStorm',\n",
    " 'PyCharm',\n",
    " 'RubyMine',\n",
    " 'Sublime Text',\n",
    " 'Visual Studio',\n",
    " 'Xcode'}\n",
    "\n",
    "def closed_source(dev_env_str, closed_source=closed_source):\n",
    "    for ed in closed_source:\n",
    "        if ed in dev_env_str:\n",
    "            return 1\n",
    "    return 0\n",
    "\n",
    "\n",
    "df['closedSource'] = df[\"DevEnviron\"].dropna().apply(closed_source)\n",
    "closed_source_perc = df[\"closedSource\"].mean()\n",
    "\n",
    "closed_source_1 = df[df['closedSource'] == 1]\n",
    "closed_source_0 = df[df['closedSource'] == 0]\n",
    "\n",
    "print(closed_source_1['closedSource'][:5])\n",
    "print(closed_source_0['closedSource'][:5])\n",
    "\n",
    "closed_source_1_perc = clean_and_plot(closed_source_1, 'closed Source', plot=False)\n",
    "closed_source_0_perc = clean_and_plot(closed_source_0, 'Closed Source/Commercial', plot=False)\n",
    "\n"
   ]
  },
  {
   "cell_type": "markdown",
   "metadata": {},
   "source": [
    "### We see that amongst people using any closed source development environment, Vim, Eclipse, Atom, and IPython/Jupyter are the highest used open source development environment.   \n",
    "### Usage is significantly high for those development environments amongst people who use only open source environment, with Vim having 30% more usage and Atom having 13% more usage"
   ]
  },
  {
   "cell_type": "code",
   "execution_count": 37,
   "metadata": {},
   "outputs": [
    {
     "data": {
      "text/html": [
       "<style  type=\"text/css\" >\n",
       "    #T_788a9be2_e799_11e9_878d_8c85908b84a8row0_col2 {\n",
       "            width:  10em;\n",
       "             height:  80%;\n",
       "            background:  linear-gradient(90deg, transparent 0%, transparent 0.0%, #d65f5f 0.0%, #d65f5f 100.0%, transparent 100.0%);\n",
       "        }    #T_788a9be2_e799_11e9_878d_8c85908b84a8row1_col2 {\n",
       "            width:  10em;\n",
       "             height:  80%;\n",
       "            background:  linear-gradient(90deg, transparent 0%, transparent 80.1%, #d65f5f 80.1%, #d65f5f 100.0%, transparent 100.0%);\n",
       "        }    #T_788a9be2_e799_11e9_878d_8c85908b84a8row2_col2 {\n",
       "            width:  10em;\n",
       "             height:  80%;\n",
       "            background:  linear-gradient(90deg, transparent 0%, transparent 56.2%, #d65f5f 56.2%, #d65f5f 100.0%, transparent 100.0%);\n",
       "        }    #T_788a9be2_e799_11e9_878d_8c85908b84a8row3_col2 {\n",
       "            width:  10em;\n",
       "             height:  80%;\n",
       "            background:  linear-gradient(90deg, transparent 0%, transparent 78.6%, #d65f5f 78.6%, #d65f5f 100.0%, transparent 100.0%);\n",
       "        }    #T_788a9be2_e799_11e9_878d_8c85908b84a8row4_col2 {\n",
       "            width:  10em;\n",
       "             height:  80%;\n",
       "            background:  linear-gradient(90deg, transparent 0%, transparent 95.9%, #d65f5f 95.9%, #d65f5f 100.0%, transparent 100.0%);\n",
       "        }    #T_788a9be2_e799_11e9_878d_8c85908b84a8row5_col2 {\n",
       "            width:  10em;\n",
       "             height:  80%;\n",
       "            background:  linear-gradient(90deg, transparent 0%, transparent 85.1%, #d65f5f 85.1%, #d65f5f 100.0%, transparent 100.0%);\n",
       "        }    #T_788a9be2_e799_11e9_878d_8c85908b84a8row6_col2 {\n",
       "            width:  10em;\n",
       "             height:  80%;\n",
       "            background:  linear-gradient(90deg, transparent 0%, transparent 52.1%, #d65f5f 52.1%, #d65f5f 100.0%, transparent 100.0%);\n",
       "        }    #T_788a9be2_e799_11e9_878d_8c85908b84a8row7_col2 {\n",
       "            width:  10em;\n",
       "             height:  80%;\n",
       "            background:  linear-gradient(90deg, transparent 0%, transparent 98.8%, #d65f5f 98.8%, #d65f5f 100.0%, transparent 100.0%);\n",
       "        }    #T_788a9be2_e799_11e9_878d_8c85908b84a8row8_col2 {\n",
       "            width:  10em;\n",
       "             height:  80%;\n",
       "            background:  linear-gradient(90deg, transparent 0%, transparent 99.4%, #d65f5f 99.4%, #d65f5f 100.0%, transparent 100.0%);\n",
       "        }    #T_788a9be2_e799_11e9_878d_8c85908b84a8row9_col2 {\n",
       "            width:  10em;\n",
       "             height:  80%;\n",
       "            background:  linear-gradient(90deg, transparent 0%, transparent 99.8%, #d65f5f 99.8%, #d65f5f 100.0%, transparent 100.0%);\n",
       "        }    #T_788a9be2_e799_11e9_878d_8c85908b84a8row10_col2 {\n",
       "            width:  10em;\n",
       "             height:  80%;\n",
       "            background:  linear-gradient(90deg, transparent 0%, transparent 99.8%, #d65f5f 99.8%, #d65f5f 100.0%, transparent 100.0%);\n",
       "        }</style>  \n",
       "<table id=\"T_788a9be2_e799_11e9_878d_8c85908b84a8\" > \n",
       "<thead>    <tr> \n",
       "        <th class=\"blank level0\" ></th> \n",
       "        <th class=\"col_heading level0 col0\" >closed_source_1_perc</th> \n",
       "        <th class=\"col_heading level0 col1\" >closed_source_0_perc</th> \n",
       "        <th class=\"col_heading level0 col2\" >Diff_closedSource_Vals</th> \n",
       "    </tr>    <tr> \n",
       "        <th class=\"index_name level0\" >DevEnviron</th> \n",
       "        <th class=\"blank\" ></th> \n",
       "        <th class=\"blank\" ></th> \n",
       "        <th class=\"blank\" ></th> \n",
       "    </tr></thead> \n",
       "<tbody>    <tr> \n",
       "        <th id=\"T_788a9be2_e799_11e9_878d_8c85908b84a8level0_row0\" class=\"row_heading level0 row0\" >Vim</th> \n",
       "        <td id=\"T_788a9be2_e799_11e9_878d_8c85908b84a8row0_col0\" class=\"data row0 col0\" >0.068417</td> \n",
       "        <td id=\"T_788a9be2_e799_11e9_878d_8c85908b84a8row0_col1\" class=\"data row0 col1\" >0.376629</td> \n",
       "        <td id=\"T_788a9be2_e799_11e9_878d_8c85908b84a8row0_col2\" class=\"data row0 col2\" >-0.308212</td> \n",
       "    </tr>    <tr> \n",
       "        <th id=\"T_788a9be2_e799_11e9_878d_8c85908b84a8level0_row1\" class=\"row_heading level0 row1\" >Eclipse</th> \n",
       "        <td id=\"T_788a9be2_e799_11e9_878d_8c85908b84a8row1_col0\" class=\"data row1 col0\" >0.0428593</td> \n",
       "        <td id=\"T_788a9be2_e799_11e9_878d_8c85908b84a8row1_col1\" class=\"data row1 col1\" >0.104336</td> \n",
       "        <td id=\"T_788a9be2_e799_11e9_878d_8c85908b84a8row1_col2\" class=\"data row1 col2\" >-0.0614771</td> \n",
       "    </tr>    <tr> \n",
       "        <th id=\"T_788a9be2_e799_11e9_878d_8c85908b84a8level0_row2\" class=\"row_heading level0 row2\" >Atom</th> \n",
       "        <td id=\"T_788a9be2_e799_11e9_878d_8c85908b84a8row2_col0\" class=\"data row2 col0\" >0.0368673</td> \n",
       "        <td id=\"T_788a9be2_e799_11e9_878d_8c85908b84a8row2_col1\" class=\"data row2 col1\" >0.171722</td> \n",
       "        <td id=\"T_788a9be2_e799_11e9_878d_8c85908b84a8row2_col2\" class=\"data row2 col2\" >-0.134855</td> \n",
       "    </tr>    <tr> \n",
       "        <th id=\"T_788a9be2_e799_11e9_878d_8c85908b84a8level0_row3\" class=\"row_heading level0 row3\" >IPython / Jupyter</th> \n",
       "        <td id=\"T_788a9be2_e799_11e9_878d_8c85908b84a8row3_col0\" class=\"data row3 col0\" >0.0274216</td> \n",
       "        <td id=\"T_788a9be2_e799_11e9_878d_8c85908b84a8row3_col1\" class=\"data row3 col1\" >0.0933428</td> \n",
       "        <td id=\"T_788a9be2_e799_11e9_878d_8c85908b84a8row3_col2\" class=\"data row3 col2\" >-0.0659212</td> \n",
       "    </tr>    <tr> \n",
       "        <th id=\"T_788a9be2_e799_11e9_878d_8c85908b84a8level0_row4\" class=\"row_heading level0 row4\" >NetBeans</th> \n",
       "        <td id=\"T_788a9be2_e799_11e9_878d_8c85908b84a8row4_col0\" class=\"data row4 col0\" >0.0178611</td> \n",
       "        <td id=\"T_788a9be2_e799_11e9_878d_8c85908b84a8row4_col1\" class=\"data row4 col1\" >0.0306393</td> \n",
       "        <td id=\"T_788a9be2_e799_11e9_878d_8c85908b84a8row4_col2\" class=\"data row4 col2\" >-0.0127781</td> \n",
       "    </tr>    <tr> \n",
       "        <th id=\"T_788a9be2_e799_11e9_878d_8c85908b84a8level0_row5\" class=\"row_heading level0 row5\" >RStudio</th> \n",
       "        <td id=\"T_788a9be2_e799_11e9_878d_8c85908b84a8row5_col0\" class=\"data row5 col0\" >0.00889721</td> \n",
       "        <td id=\"T_788a9be2_e799_11e9_878d_8c85908b84a8row5_col1\" class=\"data row5 col1\" >0.0548656</td> \n",
       "        <td id=\"T_788a9be2_e799_11e9_878d_8c85908b84a8row5_col2\" class=\"data row5 col2\" >-0.0459684</td> \n",
       "    </tr>    <tr> \n",
       "        <th id=\"T_788a9be2_e799_11e9_878d_8c85908b84a8level0_row6\" class=\"row_heading level0 row6\" >Emacs</th> \n",
       "        <td id=\"T_788a9be2_e799_11e9_878d_8c85908b84a8row6_col0\" class=\"data row6 col0\" >0.00884162</td> \n",
       "        <td id=\"T_788a9be2_e799_11e9_878d_8c85908b84a8row6_col1\" class=\"data row6 col1\" >0.156352</td> \n",
       "        <td id=\"T_788a9be2_e799_11e9_878d_8c85908b84a8row6_col2\" class=\"data row6 col2\" >-0.14751</td> \n",
       "    </tr>    <tr> \n",
       "        <th id=\"T_788a9be2_e799_11e9_878d_8c85908b84a8level0_row7\" class=\"row_heading level0 row7\" >TextMate</th> \n",
       "        <td id=\"T_788a9be2_e799_11e9_878d_8c85908b84a8row7_col0\" class=\"data row7 col0\" >0.00275328</td> \n",
       "        <td id=\"T_788a9be2_e799_11e9_878d_8c85908b84a8row7_col1\" class=\"data row7 col1\" >0.00631107</td> \n",
       "        <td id=\"T_788a9be2_e799_11e9_878d_8c85908b84a8row7_col2\" class=\"data row7 col2\" >-0.0035578</td> \n",
       "    </tr>    <tr> \n",
       "        <th id=\"T_788a9be2_e799_11e9_878d_8c85908b84a8level0_row8\" class=\"row_heading level0 row8\" >Komodo</th> \n",
       "        <td id=\"T_788a9be2_e799_11e9_878d_8c85908b84a8row8_col0\" class=\"data row8 col0\" >0.0012525</td> \n",
       "        <td id=\"T_788a9be2_e799_11e9_878d_8c85908b84a8row8_col1\" class=\"data row8 col1\" >0.00305375</td> \n",
       "        <td id=\"T_788a9be2_e799_11e9_878d_8c85908b84a8row8_col2\" class=\"data row8 col2\" >-0.00180124</td> \n",
       "    </tr>    <tr> \n",
       "        <th id=\"T_788a9be2_e799_11e9_878d_8c85908b84a8level0_row9\" class=\"row_heading level0 row9\" >Zend</th> \n",
       "        <td id=\"T_788a9be2_e799_11e9_878d_8c85908b84a8row9_col0\" class=\"data row9 col0\" >0.00107834</td> \n",
       "        <td id=\"T_788a9be2_e799_11e9_878d_8c85908b84a8row9_col1\" class=\"data row9 col1\" >0.00162866</td> \n",
       "        <td id=\"T_788a9be2_e799_11e9_878d_8c85908b84a8row9_col2\" class=\"data row9 col2\" >-0.000550328</td> \n",
       "    </tr>    <tr> \n",
       "        <th id=\"T_788a9be2_e799_11e9_878d_8c85908b84a8level0_row10\" class=\"row_heading level0 row10\" >Light Table</th> \n",
       "        <td id=\"T_788a9be2_e799_11e9_878d_8c85908b84a8row10_col0\" class=\"data row10 col0\" >0.000618839</td> \n",
       "        <td id=\"T_788a9be2_e799_11e9_878d_8c85908b84a8row10_col1\" class=\"data row10 col1\" >0.00111971</td> \n",
       "        <td id=\"T_788a9be2_e799_11e9_878d_8c85908b84a8row10_col2\" class=\"data row10 col2\" >-0.000500867</td> \n",
       "    </tr></tbody> \n",
       "</table> "
      ],
      "text/plain": [
       "<pandas.io.formats.style.Styler at 0x1122ba748>"
      ]
     },
     "execution_count": 37,
     "metadata": {},
     "output_type": "execute_result"
    }
   ],
   "source": [
    "comp_df = pd.merge(closed_source_1_perc, closed_source_0_perc, left_index=True, right_index=True)\n",
    "comp_df.columns = ['closed_source_1_perc', 'closed_source_0_perc']\n",
    "comp_df['Diff_closedSource_Vals'] = comp_df['closed_source_1_perc'] - comp_df['closed_source_0_perc']\n",
    "comp_df.style.bar(subset=['Diff_closedSource_Vals'], align='mid', color=['#d65f5f', '#5fba7d'])\n"
   ]
  },
  {
   "cell_type": "code",
   "execution_count": 38,
   "metadata": {},
   "outputs": [],
   "source": [
    "sol = {\n",
    "    'Everyone should use one development environment': False,\n",
    "    \n",
    "    'Regardless of weather open source or closed source is used, Vim is top used open source development environment': True,\n",
    "    \n",
    "    'People using the top open source development environment are the top people using open source overall': True,\n",
    "    \n",
    "    'For most used environment, there is huge difference between those who use most of open source and those who do not use mostly open source  ': True\n",
    "}"
   ]
  },
  {
   "cell_type": "code",
   "execution_count": null,
   "metadata": {},
   "outputs": [],
   "source": []
  }
 ],
 "metadata": {
  "kernelspec": {
   "display_name": "dog-project",
   "language": "python",
   "name": "dog-project"
  },
  "language_info": {
   "codemirror_mode": {
    "name": "ipython",
    "version": 3
   },
   "file_extension": ".py",
   "mimetype": "text/x-python",
   "name": "python",
   "nbconvert_exporter": "python",
   "pygments_lexer": "ipython3",
   "version": "3.5.3"
  }
 },
 "nbformat": 4,
 "nbformat_minor": 2
}
